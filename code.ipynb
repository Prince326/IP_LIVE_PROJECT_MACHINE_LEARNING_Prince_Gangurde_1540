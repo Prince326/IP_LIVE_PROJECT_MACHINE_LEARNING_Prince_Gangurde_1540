{
  "nbformat": 4,
  "nbformat_minor": 0,
  "metadata": {
    "colab": {
      "name": "code.ipynb",
      "provenance": [],
      "authorship_tag": "ABX9TyPmM0erNzi2lL4CXlOx9g7i"
    },
    "kernelspec": {
      "name": "python3",
      "display_name": "Python 3"
    }
  },
  "cells": [
    {
      "cell_type": "code",
      "metadata": {
        "id": "Gi4DGTC567g0",
        "colab_type": "code",
        "colab": {}
      },
      "source": [
        "import pandas as pd\n",
        " "
      ],
      "execution_count": 28,
      "outputs": []
    },
    {
      "cell_type": "code",
      "metadata": {
        "id": "18EmUVYq7A28",
        "colab_type": "code",
        "colab": {}
      },
      "source": [
        "event_list = pd.read_csv(\"/content/input.csv\")\n",
        "employee_list = pd.read_csv(\"/content/CCMLEmployeeData.csv\")"
      ],
      "execution_count": 3,
      "outputs": []
    },
    {
      "cell_type": "code",
      "metadata": {
        "id": "eUZ524NPKHbv",
        "colab_type": "code",
        "colab": {
          "base_uri": "https://localhost:8080/",
          "height": 677
        },
        "outputId": "d135a2e3-bb73-4b60-82a9-7aac25630611"
      },
      "source": [
        "employee_list.head(20)"
      ],
      "execution_count": 18,
      "outputs": [
        {
          "output_type": "execute_result",
          "data": {
            "text/html": [
              "<div>\n",
              "<style scoped>\n",
              "    .dataframe tbody tr th:only-of-type {\n",
              "        vertical-align: middle;\n",
              "    }\n",
              "\n",
              "    .dataframe tbody tr th {\n",
              "        vertical-align: top;\n",
              "    }\n",
              "\n",
              "    .dataframe thead th {\n",
              "        text-align: right;\n",
              "    }\n",
              "</style>\n",
              "<table border=\"1\" class=\"dataframe\">\n",
              "  <thead>\n",
              "    <tr style=\"text-align: right;\">\n",
              "      <th></th>\n",
              "      <th>Name</th>\n",
              "      <th>Domain</th>\n",
              "      <th>Event1</th>\n",
              "      <th>Event2</th>\n",
              "    </tr>\n",
              "  </thead>\n",
              "  <tbody>\n",
              "    <tr>\n",
              "      <th>0</th>\n",
              "      <td>Bryan Brock</td>\n",
              "      <td>Management</td>\n",
              "      <td>Jobs</td>\n",
              "      <td>Hackathons</td>\n",
              "    </tr>\n",
              "    <tr>\n",
              "      <th>1</th>\n",
              "      <td>Joseph Sullivan</td>\n",
              "      <td>Coding</td>\n",
              "      <td>Certifications</td>\n",
              "      <td>Webinars</td>\n",
              "    </tr>\n",
              "    <tr>\n",
              "      <th>2</th>\n",
              "      <td>Sherri Dawson</td>\n",
              "      <td>Security</td>\n",
              "      <td>Internships</td>\n",
              "      <td>Fests</td>\n",
              "    </tr>\n",
              "    <tr>\n",
              "      <th>3</th>\n",
              "      <td>Dustin Ferguson</td>\n",
              "      <td>Hardware</td>\n",
              "      <td>Competitions</td>\n",
              "      <td>Webinars</td>\n",
              "    </tr>\n",
              "    <tr>\n",
              "      <th>4</th>\n",
              "      <td>Kayla Young</td>\n",
              "      <td>Web Development</td>\n",
              "      <td>Expos</td>\n",
              "      <td>Certifications</td>\n",
              "    </tr>\n",
              "    <tr>\n",
              "      <th>5</th>\n",
              "      <td>Angela Stokes</td>\n",
              "      <td>Higher Education</td>\n",
              "      <td>Workshops</td>\n",
              "      <td>Seminars</td>\n",
              "    </tr>\n",
              "    <tr>\n",
              "      <th>6</th>\n",
              "      <td>Curtis Ortega</td>\n",
              "      <td>IoT</td>\n",
              "      <td>Certifications</td>\n",
              "      <td>Courses</td>\n",
              "    </tr>\n",
              "    <tr>\n",
              "      <th>7</th>\n",
              "      <td>Andrew Cox</td>\n",
              "      <td>Coding</td>\n",
              "      <td>Jobs</td>\n",
              "      <td>Certifications</td>\n",
              "    </tr>\n",
              "    <tr>\n",
              "      <th>8</th>\n",
              "      <td>Russell Vargas</td>\n",
              "      <td>Java</td>\n",
              "      <td>Trainings</td>\n",
              "      <td>Expos</td>\n",
              "    </tr>\n",
              "    <tr>\n",
              "      <th>9</th>\n",
              "      <td>David Foster</td>\n",
              "      <td>Security</td>\n",
              "      <td>Certifications</td>\n",
              "      <td>Courses</td>\n",
              "    </tr>\n",
              "    <tr>\n",
              "      <th>10</th>\n",
              "      <td>Pamela Burton</td>\n",
              "      <td>Web Development</td>\n",
              "      <td>Internships</td>\n",
              "      <td>Fests</td>\n",
              "    </tr>\n",
              "    <tr>\n",
              "      <th>11</th>\n",
              "      <td>Joshua Miller</td>\n",
              "      <td>Management</td>\n",
              "      <td>Jobs</td>\n",
              "      <td>Certifications</td>\n",
              "    </tr>\n",
              "    <tr>\n",
              "      <th>12</th>\n",
              "      <td>Deborah Young</td>\n",
              "      <td>Artificial Intelligence</td>\n",
              "      <td>Expos</td>\n",
              "      <td>Webinars</td>\n",
              "    </tr>\n",
              "    <tr>\n",
              "      <th>13</th>\n",
              "      <td>Ann Morris</td>\n",
              "      <td>Management</td>\n",
              "      <td>Seminars</td>\n",
              "      <td>Expos</td>\n",
              "    </tr>\n",
              "    <tr>\n",
              "      <th>14</th>\n",
              "      <td>David Cox</td>\n",
              "      <td>Python</td>\n",
              "      <td>Hackathons</td>\n",
              "      <td>Jobs</td>\n",
              "    </tr>\n",
              "    <tr>\n",
              "      <th>15</th>\n",
              "      <td>Chelsea Smith</td>\n",
              "      <td>Python</td>\n",
              "      <td>Workshops</td>\n",
              "      <td>Seminars</td>\n",
              "    </tr>\n",
              "    <tr>\n",
              "      <th>16</th>\n",
              "      <td>Corey Beck</td>\n",
              "      <td>Artificial Intelligence</td>\n",
              "      <td>Competitions</td>\n",
              "      <td>Trainings</td>\n",
              "    </tr>\n",
              "    <tr>\n",
              "      <th>17</th>\n",
              "      <td>Lisa Roberts</td>\n",
              "      <td>Finance</td>\n",
              "      <td>Fests</td>\n",
              "      <td>Certifications</td>\n",
              "    </tr>\n",
              "    <tr>\n",
              "      <th>18</th>\n",
              "      <td>Christine Potter</td>\n",
              "      <td>Mobile Applications</td>\n",
              "      <td>Certifications</td>\n",
              "      <td>Courses</td>\n",
              "    </tr>\n",
              "    <tr>\n",
              "      <th>19</th>\n",
              "      <td>Valerie Yang</td>\n",
              "      <td>Higher Education</td>\n",
              "      <td>Internships</td>\n",
              "      <td>Seminars</td>\n",
              "    </tr>\n",
              "  </tbody>\n",
              "</table>\n",
              "</div>"
            ],
            "text/plain": [
              "                Name                   Domain          Event1          Event2\n",
              "0        Bryan Brock               Management            Jobs      Hackathons\n",
              "1    Joseph Sullivan                   Coding  Certifications        Webinars\n",
              "2      Sherri Dawson                 Security     Internships           Fests\n",
              "3    Dustin Ferguson                 Hardware    Competitions        Webinars\n",
              "4        Kayla Young          Web Development           Expos  Certifications\n",
              "5      Angela Stokes         Higher Education       Workshops        Seminars\n",
              "6      Curtis Ortega                      IoT  Certifications         Courses\n",
              "7         Andrew Cox                   Coding            Jobs  Certifications\n",
              "8     Russell Vargas                     Java       Trainings           Expos\n",
              "9       David Foster                 Security  Certifications         Courses\n",
              "10     Pamela Burton          Web Development     Internships           Fests\n",
              "11     Joshua Miller               Management            Jobs  Certifications\n",
              "12     Deborah Young  Artificial Intelligence           Expos        Webinars\n",
              "13        Ann Morris               Management        Seminars           Expos\n",
              "14         David Cox                   Python      Hackathons            Jobs\n",
              "15     Chelsea Smith                   Python       Workshops        Seminars\n",
              "16        Corey Beck  Artificial Intelligence    Competitions       Trainings\n",
              "17      Lisa Roberts                  Finance           Fests  Certifications\n",
              "18  Christine Potter      Mobile Applications  Certifications         Courses\n",
              "19      Valerie Yang         Higher Education     Internships        Seminars"
            ]
          },
          "metadata": {
            "tags": []
          },
          "execution_count": 18
        }
      ]
    },
    {
      "cell_type": "code",
      "metadata": {
        "id": "Ojmh0vMq72HZ",
        "colab_type": "code",
        "colab": {}
      },
      "source": [
        "event = \"Lockdown special courses on Ydemi. 22 hours left\""
      ],
      "execution_count": 26,
      "outputs": []
    },
    {
      "cell_type": "code",
      "metadata": {
        "id": "0IqFjnw274gU",
        "colab_type": "code",
        "colab": {}
      },
      "source": [
        ""
      ],
      "execution_count": 22,
      "outputs": []
    },
    {
      "cell_type": "code",
      "metadata": {
        "id": "aQsqi-y9JgJ4",
        "colab_type": "code",
        "colab": {}
      },
      "source": [
        ""
      ],
      "execution_count": 28,
      "outputs": []
    },
    {
      "cell_type": "code",
      "metadata": {
        "id": "YgEuF2SfJjj0",
        "colab_type": "code",
        "colab": {}
      },
      "source": [
        ""
      ],
      "execution_count": null,
      "outputs": []
    }
  ]
}