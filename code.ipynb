{
  "nbformat": 4,
  "nbformat_minor": 0,
  "metadata": {
    "colab": {
      "name": "code.ipynb",
      "provenance": [],
      "authorship_tag": "ABX9TyOJfEG1o3d8eLxigj86a5+2"
    },
    "kernelspec": {
      "name": "python3",
      "display_name": "Python 3"
    }
  },
  "cells": [
    {
      "cell_type": "code",
      "metadata": {
        "id": "Gi4DGTC567g0",
        "colab_type": "code",
        "colab": {}
      },
      "source": [
        "import pandas as pd\n",
        "import nltk \n",
        "\n",
        "#nltk.download('punkt')\n",
        "#nltk.download('wordnet')\n",
        "#nltk.download('stopwords')\n",
        "\n",
        "from nltk.stem import WordNetLemmatizer\n",
        "from nltk.corpus import stopwords \n",
        "\n",
        "import string\n",
        "\n",
        "wordnet_lemmatizer = WordNetLemmatizer()\n",
        "stop_words = set(stopwords.words('english')) "
      ],
      "execution_count": 72,
      "outputs": []
    },
    {
      "cell_type": "code",
      "metadata": {
        "id": "18EmUVYq7A28",
        "colab_type": "code",
        "colab": {}
      },
      "source": [
        "#event_list = pd.read_csv(\"/content/input.csv\")\n",
        "employee_list = pd.read_csv(\"/content/CCMLEmployeeData.csv\")"
      ],
      "execution_count": 106,
      "outputs": []
    },
    {
      "cell_type": "code",
      "metadata": {
        "id": "nz4lG0tfBxe0",
        "colab_type": "code",
        "colab": {
          "base_uri": "https://localhost:8080/",
          "height": 424
        },
        "outputId": "af3fd05c-1cff-40ec-ab3e-435d458e15e8"
      },
      "source": [
        "employee_list"
      ],
      "execution_count": 93,
      "outputs": [
        {
          "output_type": "execute_result",
          "data": {
            "text/html": [
              "<div>\n",
              "<style scoped>\n",
              "    .dataframe tbody tr th:only-of-type {\n",
              "        vertical-align: middle;\n",
              "    }\n",
              "\n",
              "    .dataframe tbody tr th {\n",
              "        vertical-align: top;\n",
              "    }\n",
              "\n",
              "    .dataframe thead th {\n",
              "        text-align: right;\n",
              "    }\n",
              "</style>\n",
              "<table border=\"1\" class=\"dataframe\">\n",
              "  <thead>\n",
              "    <tr style=\"text-align: right;\">\n",
              "      <th></th>\n",
              "      <th>Name</th>\n",
              "      <th>Domain</th>\n",
              "      <th>Event1</th>\n",
              "      <th>Event2</th>\n",
              "    </tr>\n",
              "  </thead>\n",
              "  <tbody>\n",
              "    <tr>\n",
              "      <th>0</th>\n",
              "      <td>Bryan Brock</td>\n",
              "      <td>Management</td>\n",
              "      <td>Jobs</td>\n",
              "      <td>Hackathons</td>\n",
              "    </tr>\n",
              "    <tr>\n",
              "      <th>1</th>\n",
              "      <td>Joseph Sullivan</td>\n",
              "      <td>Coding</td>\n",
              "      <td>Certifications</td>\n",
              "      <td>Webinars</td>\n",
              "    </tr>\n",
              "    <tr>\n",
              "      <th>2</th>\n",
              "      <td>Sherri Dawson</td>\n",
              "      <td>Security</td>\n",
              "      <td>Internships</td>\n",
              "      <td>Fests</td>\n",
              "    </tr>\n",
              "    <tr>\n",
              "      <th>3</th>\n",
              "      <td>Dustin Ferguson</td>\n",
              "      <td>Hardware</td>\n",
              "      <td>Competitions</td>\n",
              "      <td>Webinars</td>\n",
              "    </tr>\n",
              "    <tr>\n",
              "      <th>4</th>\n",
              "      <td>Kayla Young</td>\n",
              "      <td>Web Development</td>\n",
              "      <td>Expos</td>\n",
              "      <td>Certifications</td>\n",
              "    </tr>\n",
              "    <tr>\n",
              "      <th>...</th>\n",
              "      <td>...</td>\n",
              "      <td>...</td>\n",
              "      <td>...</td>\n",
              "      <td>...</td>\n",
              "    </tr>\n",
              "    <tr>\n",
              "      <th>178</th>\n",
              "      <td>Katelyn Barnes</td>\n",
              "      <td>Coding</td>\n",
              "      <td>Courses</td>\n",
              "      <td>Webinars</td>\n",
              "    </tr>\n",
              "    <tr>\n",
              "      <th>179</th>\n",
              "      <td>Gabriel Cruz</td>\n",
              "      <td>Other</td>\n",
              "      <td>Talks</td>\n",
              "      <td>Fests</td>\n",
              "    </tr>\n",
              "    <tr>\n",
              "      <th>180</th>\n",
              "      <td>Christina Williams</td>\n",
              "      <td>Software Architecture</td>\n",
              "      <td>Talks</td>\n",
              "      <td>Fests</td>\n",
              "    </tr>\n",
              "    <tr>\n",
              "      <th>181</th>\n",
              "      <td>William Turner</td>\n",
              "      <td>Development Processes</td>\n",
              "      <td>Trainings</td>\n",
              "      <td>Seminars</td>\n",
              "    </tr>\n",
              "    <tr>\n",
              "      <th>182</th>\n",
              "      <td>Damon Lane</td>\n",
              "      <td>C</td>\n",
              "      <td>Seminars</td>\n",
              "      <td>Internships</td>\n",
              "    </tr>\n",
              "  </tbody>\n",
              "</table>\n",
              "<p>183 rows × 4 columns</p>\n",
              "</div>"
            ],
            "text/plain": [
              "                   Name                 Domain          Event1          Event2\n",
              "0           Bryan Brock             Management            Jobs      Hackathons\n",
              "1       Joseph Sullivan                 Coding  Certifications        Webinars\n",
              "2         Sherri Dawson               Security     Internships           Fests\n",
              "3       Dustin Ferguson               Hardware    Competitions        Webinars\n",
              "4           Kayla Young        Web Development           Expos  Certifications\n",
              "..                  ...                    ...             ...             ...\n",
              "178      Katelyn Barnes                 Coding         Courses        Webinars\n",
              "179        Gabriel Cruz                  Other           Talks           Fests\n",
              "180  Christina Williams  Software Architecture           Talks           Fests\n",
              "181      William Turner  Development Processes       Trainings        Seminars\n",
              "182          Damon Lane                      C        Seminars     Internships\n",
              "\n",
              "[183 rows x 4 columns]"
            ]
          },
          "metadata": {
            "tags": []
          },
          "execution_count": 93
        }
      ]
    },
    {
      "cell_type": "code",
      "metadata": {
        "id": "CoeR7CGQBe8p",
        "colab_type": "code",
        "colab": {
          "base_uri": "https://localhost:8080/",
          "height": 424
        },
        "outputId": "a5dd5cdc-af65-449f-c4e0-a6bdb0c36691"
      },
      "source": [
        "# cleaning datafile\n",
        "employee_list['Event1'] = employee_list['Domain']+\" \"+  employee_list['Event1']\n",
        "employee_list['Event2'] = employee_list['Domain']+\" \"+  employee_list['Event2']\n",
        "employee_list.drop(\"Domain\",axis = 1)"
      ],
      "execution_count": 107,
      "outputs": [
        {
          "output_type": "execute_result",
          "data": {
            "text/html": [
              "<div>\n",
              "<style scoped>\n",
              "    .dataframe tbody tr th:only-of-type {\n",
              "        vertical-align: middle;\n",
              "    }\n",
              "\n",
              "    .dataframe tbody tr th {\n",
              "        vertical-align: top;\n",
              "    }\n",
              "\n",
              "    .dataframe thead th {\n",
              "        text-align: right;\n",
              "    }\n",
              "</style>\n",
              "<table border=\"1\" class=\"dataframe\">\n",
              "  <thead>\n",
              "    <tr style=\"text-align: right;\">\n",
              "      <th></th>\n",
              "      <th>Name</th>\n",
              "      <th>Event1</th>\n",
              "      <th>Event2</th>\n",
              "    </tr>\n",
              "  </thead>\n",
              "  <tbody>\n",
              "    <tr>\n",
              "      <th>0</th>\n",
              "      <td>Bryan Brock</td>\n",
              "      <td>Management Jobs</td>\n",
              "      <td>Management Hackathons</td>\n",
              "    </tr>\n",
              "    <tr>\n",
              "      <th>1</th>\n",
              "      <td>Joseph Sullivan</td>\n",
              "      <td>Coding Certifications</td>\n",
              "      <td>Coding Webinars</td>\n",
              "    </tr>\n",
              "    <tr>\n",
              "      <th>2</th>\n",
              "      <td>Sherri Dawson</td>\n",
              "      <td>Security Internships</td>\n",
              "      <td>Security Fests</td>\n",
              "    </tr>\n",
              "    <tr>\n",
              "      <th>3</th>\n",
              "      <td>Dustin Ferguson</td>\n",
              "      <td>Hardware Competitions</td>\n",
              "      <td>Hardware Webinars</td>\n",
              "    </tr>\n",
              "    <tr>\n",
              "      <th>4</th>\n",
              "      <td>Kayla Young</td>\n",
              "      <td>Web Development Expos</td>\n",
              "      <td>Web Development Certifications</td>\n",
              "    </tr>\n",
              "    <tr>\n",
              "      <th>...</th>\n",
              "      <td>...</td>\n",
              "      <td>...</td>\n",
              "      <td>...</td>\n",
              "    </tr>\n",
              "    <tr>\n",
              "      <th>178</th>\n",
              "      <td>Katelyn Barnes</td>\n",
              "      <td>Coding Courses</td>\n",
              "      <td>Coding Webinars</td>\n",
              "    </tr>\n",
              "    <tr>\n",
              "      <th>179</th>\n",
              "      <td>Gabriel Cruz</td>\n",
              "      <td>Other Talks</td>\n",
              "      <td>Other Fests</td>\n",
              "    </tr>\n",
              "    <tr>\n",
              "      <th>180</th>\n",
              "      <td>Christina Williams</td>\n",
              "      <td>Software Architecture Talks</td>\n",
              "      <td>Software Architecture Fests</td>\n",
              "    </tr>\n",
              "    <tr>\n",
              "      <th>181</th>\n",
              "      <td>William Turner</td>\n",
              "      <td>Development Processes Trainings</td>\n",
              "      <td>Development Processes Seminars</td>\n",
              "    </tr>\n",
              "    <tr>\n",
              "      <th>182</th>\n",
              "      <td>Damon Lane</td>\n",
              "      <td>C Seminars</td>\n",
              "      <td>C Internships</td>\n",
              "    </tr>\n",
              "  </tbody>\n",
              "</table>\n",
              "<p>183 rows × 3 columns</p>\n",
              "</div>"
            ],
            "text/plain": [
              "                   Name  ...                          Event2\n",
              "0           Bryan Brock  ...           Management Hackathons\n",
              "1       Joseph Sullivan  ...                 Coding Webinars\n",
              "2         Sherri Dawson  ...                  Security Fests\n",
              "3       Dustin Ferguson  ...               Hardware Webinars\n",
              "4           Kayla Young  ...  Web Development Certifications\n",
              "..                  ...  ...                             ...\n",
              "178      Katelyn Barnes  ...                 Coding Webinars\n",
              "179        Gabriel Cruz  ...                     Other Fests\n",
              "180  Christina Williams  ...     Software Architecture Fests\n",
              "181      William Turner  ...  Development Processes Seminars\n",
              "182          Damon Lane  ...                   C Internships\n",
              "\n",
              "[183 rows x 3 columns]"
            ]
          },
          "metadata": {
            "tags": []
          },
          "execution_count": 107
        }
      ]
    },
    {
      "cell_type": "markdown",
      "metadata": {
        "id": "7wc9VyUhKF4U",
        "colab_type": "text"
      },
      "source": [
        "### Model no. 1(for event 1)"
      ]
    },
    {
      "cell_type": "code",
      "metadata": {
        "id": "59VDEp5_FFQD",
        "colab_type": "code",
        "colab": {}
      },
      "source": [
        "data = employee_list.drop('Event2',axis = 1)"
      ],
      "execution_count": 109,
      "outputs": []
    },
    {
      "cell_type": "code",
      "metadata": {
        "id": "LGJvZkV0EGQ5",
        "colab_type": "code",
        "colab": {}
      },
      "source": [
        "from sklearn.model_selection import train_test_split\n",
        "from sklearn.linear_model import LogisticRegression\n",
        "from sklearn.feature_extraction.text import TfidfVectorizer\n",
        "\n",
        "x_train, x_test, y_train, y_test = train_test_split(data['Event1'], data['Name'], train_size=0.8)\n",
        "vectorizer = TfidfVectorizer().fit(x_train)\n",
        "x_train_v = vectorizer.transform(x_train)\n",
        "x_test_v  = vectorizer.transform(x_test)\n",
        "\n",
        "model = LogisticRegression()     \n",
        "model.fit(x_train_v, y_train)    \n",
        "y_pred = model.predict(x_test_v)\n"
      ],
      "execution_count": 148,
      "outputs": []
    },
    {
      "cell_type": "code",
      "metadata": {
        "id": "Ojmh0vMq72HZ",
        "colab_type": "code",
        "colab": {}
      },
      "source": [
        "event = \"python certification\""
      ],
      "execution_count": 142,
      "outputs": []
    },
    {
      "cell_type": "code",
      "metadata": {
        "id": "0IqFjnw274gU",
        "colab_type": "code",
        "colab": {}
      },
      "source": [
        "def process_text(event):\n",
        "\n",
        "  # tokenization  \n",
        "  tokens =  nltk.word_tokenize(event)\n",
        "  filtered_sentence = []\n",
        "\n",
        "  #lemmantization\n",
        "  for w in tokens:\n",
        "    wordnet_lemmatizer.lemmatize(w)\n",
        "    \n",
        "    # convert to lower\n",
        "    w.lower()\n",
        "\n",
        "    # removing stop words\n",
        "    if w not in stop_words: \n",
        "        filtered_sentence.append(w)\n",
        "          \n",
        "    # remove punctuations and empty strings\n",
        "    filtered_sentence = [''.join(c for c in s if c not in string.punctuation) for s in filtered_sentence]\n",
        "    filtered_sentence = [s for s in filtered_sentence if s]  \n",
        " \n",
        "  return filtered_sentence   "
      ],
      "execution_count": 90,
      "outputs": []
    },
    {
      "cell_type": "code",
      "metadata": {
        "id": "aQsqi-y9JgJ4",
        "colab_type": "code",
        "colab": {}
      },
      "source": [
        "test1 = process_text(event)"
      ],
      "execution_count": 143,
      "outputs": []
    },
    {
      "cell_type": "code",
      "metadata": {
        "id": "YgEuF2SfJjj0",
        "colab_type": "code",
        "colab": {
          "base_uri": "https://localhost:8080/",
          "height": 36
        },
        "outputId": "92f3a4f1-bc86-4d87-e6da-a237df302587"
      },
      "source": [
        "from nltk.tokenize.treebank import TreebankWordDetokenizer\n",
        "TreebankWordDetokenizer().detokenize(test1)"
      ],
      "execution_count": 144,
      "outputs": [
        {
          "output_type": "execute_result",
          "data": {
            "application/vnd.google.colaboratory.intrinsic+json": {
              "type": "string"
            },
            "text/plain": [
              "'python certification'"
            ]
          },
          "metadata": {
            "tags": []
          },
          "execution_count": 144
        }
      ]
    },
    {
      "cell_type": "code",
      "metadata": {
        "id": "XFGjiaBKHq0O",
        "colab_type": "code",
        "colab": {}
      },
      "source": [
        "test1 = vectorizer.transform(test1)"
      ],
      "execution_count": 145,
      "outputs": []
    }
  ]
}